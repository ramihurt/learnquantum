{
 "cells": [
  {
   "cell_type": "code",
   "execution_count": 1,
   "id": "2c3358b2-687a-4cf2-b69d-44b9e7eab2ed",
   "metadata": {},
   "outputs": [],
   "source": [
    "import sys;\n",
    "sys.path.insert(0, '..')"
   ]
  },
  {
   "cell_type": "code",
   "execution_count": 2,
   "id": "427e2a35-00b5-48c9-a1d5-cffe7987db73",
   "metadata": {},
   "outputs": [],
   "source": [
    "import warnings\n",
    "warnings.filterwarnings('ignore')"
   ]
  },
  {
   "cell_type": "markdown",
   "id": "e6a106e5-095f-44a4-9581-84dde26823f5",
   "metadata": {},
   "source": [
    "## Experiments on Quantum Hardware\n",
    "\n",
    "In this notebook, we will run a couple of example circuits from the book on real quantum hardware. If you would like to run experiments yourself, you can follow the instructions to set up an IBM Quantum account and replace the token with your own.\n",
    "\n",
    "To re-run the code in this notebook you will need to:\n",
    "\n",
    "* Sign up for an IBM Quantum Platform Open Plan [here](https://docs.quantum.ibm.com/start/setup-channel) and get a token\n",
    "* Install Qiskit Runtime [`qiskit-ibm-runtime`](https://docs.quantum.ibm.com/start/install) (this notebook uses the Sampler primitive)"
   ]
  },
  {
   "cell_type": "code",
   "execution_count": 3,
   "id": "424b149a-f947-429b-a1ae-cfb045e6163d",
   "metadata": {},
   "outputs": [],
   "source": [
    "from qiskit_ibm_runtime import QiskitRuntimeService, Sampler\n",
    "from qiskit.compiler import transpile\n",
    "from qiskit.visualization import plot_histogram"
   ]
  },
  {
   "cell_type": "markdown",
   "id": "d729c7cb-7372-48b4-96b0-5759750d863c",
   "metadata": {},
   "source": [
    "Insert your IBM Quantum API key and authenticate to the service. Note, that this uses for the default instance for Open Plan users. If you are using a a different plan (i.e., pay-as-you-go) you can change your instance using the `instance` parameter ([documentation](https://docs.quantum.ibm.com/run/instances#connect-instance))."
   ]
  },
  {
   "cell_type": "code",
   "execution_count": 7,
   "id": "55a072c9-54fb-4a1b-a37e-af0eacb767cf",
   "metadata": {},
   "outputs": [],
   "source": [
    "QiskitRuntimeService.save_account(channel=\"ibm_quantum\", token=\"<MY_IBM_QUANTUM_TOKEN>\", instance = \"ibm-q/open/main\", overwrite=True)"
   ]
  },
  {
   "cell_type": "code",
   "execution_count": 8,
   "id": "1bf67531-bf5a-4669-97c2-30b5c4f179fa",
   "metadata": {},
   "outputs": [],
   "source": [
    "service = QiskitRuntimeService()"
   ]
  },
  {
   "cell_type": "markdown",
   "id": "a3147560-5154-4e98-a2f3-dadc5bc46e6a",
   "metadata": {},
   "source": [
    "View the available backends:"
   ]
  },
  {
   "cell_type": "code",
   "execution_count": 9,
   "id": "d95b0f64-15d9-44f8-bd8b-0abd5cd4ce80",
   "metadata": {},
   "outputs": [
    {
     "data": {
      "text/plain": [
       "[<IBMBackend('simulator_mps')>,\n",
       " <IBMBackend('simulator_statevector')>,\n",
       " <IBMBackend('simulator_stabilizer')>,\n",
       " <IBMBackend('ibmq_qasm_simulator')>,\n",
       " <IBMBackend('simulator_extended_stabilizer')>,\n",
       " <IBMBackend('ibm_brisbane')>,\n",
       " <IBMBackend('ibm_kyoto')>,\n",
       " <IBMBackend('ibm_osaka')>,\n",
       " <IBMBackend('ibm_sherbrooke')>]"
      ]
     },
     "execution_count": 9,
     "metadata": {},
     "output_type": "execute_result"
    }
   ],
   "source": [
    "service.backends()"
   ]
  },
  {
   "cell_type": "markdown",
   "id": "8b3abd15-c311-4ec4-b08a-36188fb37f13",
   "metadata": {},
   "source": [
    "### Step 1: Build circuit using Hume\n",
    "\n",
    "We can import the `QuantumRegister` and `QuantumCircuit` classes from Hume. The example circuit is from chapter 4 (section 4.5.2)."
   ]
  },
  {
   "cell_type": "code",
   "execution_count": 10,
   "id": "9a8b9d19-8faf-4c3f-8f84-538c7e8d6da4",
   "metadata": {},
   "outputs": [],
   "source": [
    "from hume.simulator.circuit import QuantumRegister, QuantumCircuit"
   ]
  },
  {
   "cell_type": "code",
   "execution_count": 11,
   "id": "c0f55694-50e3-448d-9b88-2f07c342de62",
   "metadata": {},
   "outputs": [],
   "source": [
    "q = QuantumRegister(3)\n",
    "qc = QuantumCircuit(q)\n",
    "\n",
    "qc.h(q[0])\n",
    "qc.h(q[1])\n",
    "qc.mcx([q[0], q[1]], q[2])"
   ]
  },
  {
   "cell_type": "markdown",
   "id": "2fc61868-f530-44d2-b2e3-5f26715e98ea",
   "metadata": {},
   "source": [
    "### Step 2: Convert to Qiskit circuit instance using Hume's Qiskit utilities\n",
    "\n",
    "Next, we use Hume's Qiskit utility function `hume_to_qiskit` to the Hume circuit instance to a Qiskit circuit instance."
   ]
  },
  {
   "cell_type": "code",
   "execution_count": 12,
   "id": "7fbeeccf-a615-4be7-a994-bfdd2a9a7002",
   "metadata": {},
   "outputs": [],
   "source": [
    "from hume.qiskit.util import hume_to_qiskit"
   ]
  },
  {
   "cell_type": "code",
   "execution_count": 13,
   "id": "f0a3c23b-471d-4bfe-b292-93626c3bef26",
   "metadata": {},
   "outputs": [],
   "source": [
    "qc_qiskit = hume_to_qiskit(qc.regs, qc.transformations)"
   ]
  },
  {
   "cell_type": "markdown",
   "id": "5ff71be2-a169-46a5-83ab-fe2b8eb77a65",
   "metadata": {},
   "source": [
    "We must add measurement to the circuit:"
   ]
  },
  {
   "cell_type": "code",
   "execution_count": 14,
   "id": "4ed4d5c8-a1b3-4dc6-be03-848e53723224",
   "metadata": {},
   "outputs": [],
   "source": [
    "qc_qiskit.measure_all()"
   ]
  },
  {
   "cell_type": "code",
   "execution_count": 15,
   "id": "281cbc8b-a073-44f8-9e81-e2d5afcd71ca",
   "metadata": {},
   "outputs": [
    {
     "data": {
      "text/html": [
       "<pre style=\"word-wrap: normal;white-space: pre;background: #fff0;line-height: 1.1;font-family: &quot;Courier New&quot;,Courier,monospace\">        ┌───┐      ░ ┌─┐      \n",
       "   q_0: ┤ H ├──■───░─┤M├──────\n",
       "        ├───┤  │   ░ └╥┘┌─┐   \n",
       "   q_1: ┤ H ├──■───░──╫─┤M├───\n",
       "        └───┘┌─┴─┐ ░  ║ └╥┘┌─┐\n",
       "   q_2: ─────┤ X ├─░──╫──╫─┤M├\n",
       "             └───┘ ░  ║  ║ └╥┘\n",
       "meas: 3/══════════════╩══╩══╩═\n",
       "                      0  1  2 </pre>"
      ],
      "text/plain": [
       "        ┌───┐      ░ ┌─┐      \n",
       "   q_0: ┤ H ├──■───░─┤M├──────\n",
       "        ├───┤  │   ░ └╥┘┌─┐   \n",
       "   q_1: ┤ H ├──■───░──╫─┤M├───\n",
       "        └───┘┌─┴─┐ ░  ║ └╥┘┌─┐\n",
       "   q_2: ─────┤ X ├─░──╫──╫─┤M├\n",
       "             └───┘ ░  ║  ║ └╥┘\n",
       "meas: 3/══════════════╩══╩══╩═\n",
       "                      0  1  2 "
      ]
     },
     "execution_count": 15,
     "metadata": {},
     "output_type": "execute_result"
    }
   ],
   "source": [
    "qc_qiskit.draw()"
   ]
  },
  {
   "cell_type": "markdown",
   "id": "77f8cbd7-7884-466e-8a9b-6aa8bf434667",
   "metadata": {},
   "source": [
    "### Step 3: Choose a backend, transpile circuit, submit job"
   ]
  },
  {
   "cell_type": "markdown",
   "id": "63c2cce1-e6e6-4f80-8db2-b1b098eea3c7",
   "metadata": {},
   "source": [
    "Let's start with the least busy available backend:"
   ]
  },
  {
   "cell_type": "code",
   "execution_count": 16,
   "id": "6218605c-ab59-4960-b3e5-c1f673cb5345",
   "metadata": {},
   "outputs": [
    {
     "name": "stdout",
     "output_type": "stream",
     "text": [
      "ibm_sherbrooke\n"
     ]
    }
   ],
   "source": [
    "backend = service.least_busy(operational=True, simulator=False)\n",
    "print(backend.name)"
   ]
  },
  {
   "cell_type": "code",
   "execution_count": 17,
   "id": "990fde21-e21a-4d0f-86f7-0ecb7db0434c",
   "metadata": {},
   "outputs": [],
   "source": [
    "sampler = Sampler(backend=backend)"
   ]
  },
  {
   "cell_type": "markdown",
   "id": "731addc4-2544-4d40-8527-150cce9d0be3",
   "metadata": {},
   "source": [
    "Next, we do a basic transpilation (no optimization):"
   ]
  },
  {
   "cell_type": "code",
   "execution_count": 18,
   "id": "cc24cfc7-a1f9-4085-8506-9e1d29e300f1",
   "metadata": {},
   "outputs": [],
   "source": [
    "qc_transpiled = transpile(qc_qiskit, backend)"
   ]
  },
  {
   "cell_type": "markdown",
   "id": "2d9198f9-3b2d-492c-82a7-b6e51f4a96e5",
   "metadata": {},
   "source": [
    "Submit a job to the chosen backend (with 1000 shots):"
   ]
  },
  {
   "cell_type": "code",
   "execution_count": 31,
   "id": "5d703201-f3a0-4549-82be-8261bb8ef92a",
   "metadata": {},
   "outputs": [],
   "source": [
    "job = sampler.run(qc_transpiled, shots = 1000)"
   ]
  },
  {
   "cell_type": "code",
   "execution_count": 32,
   "id": "37f91a98-69c2-4911-9dc5-bdcc11a24f9e",
   "metadata": {},
   "outputs": [
    {
     "name": "stdout",
     "output_type": "stream",
     "text": [
      "JobStatus.QUEUED\n"
     ]
    }
   ],
   "source": [
    "try:\n",
    "    job_status = job.status()\n",
    "    print(job_status)\n",
    "except JobError as ex:\n",
    "    print(\"Something wrong happened!: {}\".format(ex))"
   ]
  },
  {
   "cell_type": "markdown",
   "id": "5e1292d3-6c06-4215-a1c2-3a94bebbb431",
   "metadata": {},
   "source": [
    "### Look at the results"
   ]
  },
  {
   "cell_type": "code",
   "execution_count": 38,
   "id": "e9cfd763-e819-43eb-bd07-c7b5e81bc5a2",
   "metadata": {},
   "outputs": [],
   "source": [
    "result = job.result()"
   ]
  },
  {
   "cell_type": "code",
   "execution_count": 43,
   "id": "9e5b4bf0-1ad3-4637-af72-d82cbf264527",
   "metadata": {},
   "outputs": [],
   "source": [
    "# Get the counts of the outcomes (for each shot)\n",
    "quasi_probs = result.quasi_dists"
   ]
  },
  {
   "cell_type": "code",
   "execution_count": 44,
   "id": "1808fa77-146f-4d7c-a665-50f155493ac2",
   "metadata": {},
   "outputs": [
    {
     "data": {
      "image/png": "[encoded data removed]",
      "text/plain": [
       "<Figure size 900x500 with 1 Axes>"
      ]
     },
     "execution_count": 44,
     "metadata": {},
     "output_type": "execute_result"
    }
   ],
   "source": [
    "plot_histogram(quasi_probs, figsize=(9,5))"
   ]
  }
 ],
 "metadata": {
  "kernelspec": {
   "display_name": "Python 3 (ipykernel)",
   "language": "python",
   "name": "python3"
  },
  "language_info": {
   "codemirror_mode": {
    "name": "ipython",
    "version": 3
   },
   "file_extension": ".py",
   "mimetype": "text/x-python",
   "name": "python",
   "nbconvert_exporter": "python",
   "pygments_lexer": "ipython3",
   "version": "3.9.13"
  }
 },
 "nbformat": 4,
 "nbformat_minor": 5
}
